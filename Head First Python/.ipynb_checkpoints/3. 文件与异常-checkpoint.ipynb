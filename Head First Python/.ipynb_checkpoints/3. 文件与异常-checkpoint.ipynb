{
 "cells": [
  {
   "cell_type": "markdown",
   "metadata": {},
   "source": [
    "#1.文本行"
   ]
  },
  {
   "cell_type": "markdown",
   "metadata": {},
   "source": [
    "Python中的基本输入机制是基于行的，从文本文件向程序读入数据时，一次会到达一个数据行。\n",
    "\n",
    "open() BIF用来与文件交互"
   ]
  },
  {
   "cell_type": "code",
   "execution_count": 5,
   "metadata": {
    "collapsed": false
   },
   "outputs": [
    {
     "data": {
      "text/plain": [
       "'C:\\\\Users\\\\dell\\\\Desktop\\\\Head First Python'"
      ]
     },
     "execution_count": 5,
     "metadata": {},
     "output_type": "execute_result"
    }
   ],
   "source": [
    "import os\n",
    "os.getcwd()  #获取当前工作目录"
   ]
  },
  {
   "cell_type": "code",
   "execution_count": 8,
   "metadata": {
    "collapsed": false
   },
   "outputs": [],
   "source": [
    "import os\n",
    "\n",
    "os.chdir('C:\\\\Users\\\\dell\\\\Desktop\\\\Head First Python\\\\ch3')  #切换为包含数据文件的文件夹"
   ]
  },
  {
   "cell_type": "code",
   "execution_count": 9,
   "metadata": {
    "collapsed": false
   },
   "outputs": [
    {
     "data": {
      "text/plain": [
       "'C:\\\\Users\\\\dell\\\\Desktop\\\\Head First Python\\\\ch3'"
      ]
     },
     "execution_count": 9,
     "metadata": {},
     "output_type": "execute_result"
    }
   ],
   "source": [
    "os.getcwd()"
   ]
  },
  {
   "cell_type": "code",
   "execution_count": 10,
   "metadata": {
    "collapsed": false
   },
   "outputs": [
    {
     "name": "stdout",
     "output_type": "stream",
     "text": [
      "Keyboard_shortcuts:usage:meanings\n"
     ]
    }
   ],
   "source": [
    "data = open('shortcut.txt')\n",
    "print(data.readline(), end='')"
   ]
  },
  {
   "cell_type": "code",
   "execution_count": 4,
   "metadata": {
    "collapsed": false
   },
   "outputs": [
    {
     "name": "stdout",
     "output_type": "stream",
     "text": [
      "Help on built-in function readline:\n",
      "\n",
      "readline(...) method of _io.TextIOWrapper instance\n",
      "\n"
     ]
    }
   ],
   "source": [
    "help(data.readline)"
   ]
  },
  {
   "cell_type": "code",
   "execution_count": 11,
   "metadata": {
    "collapsed": false
   },
   "outputs": [
    {
     "name": "stdout",
     "output_type": "stream",
     "text": [
      "Command Mode (press Esc to enable)\n"
     ]
    }
   ],
   "source": [
    "print(data.readline(), end='')"
   ]
  },
  {
   "cell_type": "code",
   "execution_count": 12,
   "metadata": {
    "collapsed": false
   },
   "outputs": [
    {
     "data": {
      "text/plain": [
       "0"
      ]
     },
     "execution_count": 12,
     "metadata": {},
     "output_type": "execute_result"
    }
   ],
   "source": [
    "data.seek(0)   #回到文件起始位置"
   ]
  },
  {
   "cell_type": "code",
   "execution_count": 13,
   "metadata": {
    "collapsed": false
   },
   "outputs": [
    {
     "name": "stdout",
     "output_type": "stream",
     "text": [
      "Keyboard_shortcuts:usage:meanings\n",
      "Command Mode (press Esc to enable)\n",
      "\n",
      "\n",
      "\n",
      "Enter: enter edit mode\n",
      "\n",
      "Shift-Enter: run cell, select below\n",
      "\n",
      "Ctrl-Enter: run cell\n",
      "\n",
      "Alt-Enter: run cell, insert below\n",
      "\n",
      "Y: to code\n",
      "\n",
      "M: to markdown\n",
      "\n",
      "R: to raw\n",
      "\n",
      "1: to heading 1\n",
      "\n",
      "2: to heading 2\n",
      "\n",
      "3: to heading 3\n",
      "\n",
      "4: to heading 4\n",
      "\n",
      "5: to heading 5\n",
      "\n",
      "6: to heading 6\n",
      "\n",
      "Up: select cell above\n",
      "\n",
      "K: select cell above\n",
      "\n",
      "Down: select cell below\n",
      "\n",
      "J: select cell below\n",
      "\n",
      "A: insert cell above\n",
      "\n",
      "B: insert cell below\n",
      "\n",
      "\n",
      "X: cut selected cell\n",
      "\n",
      "C: copy selected cell\n",
      "\n",
      "Shift-V: paste cell above\n",
      "\n",
      "V: paste cell below\n",
      "\n",
      "Z: undo last cell deletion\n",
      "\n",
      "D,D: delete selected cell\n",
      "\n",
      "Shift-M: merge cell below\n",
      "\n",
      "Ctrl-S: Save and Checkpoint\n",
      "\n",
      "S: Save and Checkpoint\n",
      "\n",
      "L: toggle line numbers\n",
      "\n",
      "O: toggle output\n",
      "\n",
      "Shift-O: toggle output scrolling\n",
      "\n",
      "Esc: close pager\n",
      "\n",
      "Q: close pager\n",
      "\n",
      "H: show keyboard shortcut help dialog\n",
      "\n",
      "I,I: interrupt kernel\n",
      "\n",
      "0,0: restart kernel\n",
      "\n",
      "Shift: ignore\n",
      "\n",
      "Shift-Space: scroll up\n",
      "\n",
      "Space: scroll down\n",
      "\n",
      "\n",
      "Edit Mode (press Enter to enable)\n",
      "\n",
      "\n",
      "\n",
      "Tab: code completion or indent\n",
      "\n",
      "Shift-Tab: tooltip\n",
      "\n",
      "Ctrl-]: indent\n",
      "\n",
      "Ctrl-[: dedent\n",
      "\n",
      "Ctrl-A: select all\n",
      "\n",
      "Ctrl-Z: undo\n",
      "\n",
      "Ctrl-Shift-Z: redo\n",
      "\n",
      "Ctrl-Y: redo\n",
      "\n",
      "Ctrl-Home: go to cell start\n",
      "\n",
      "Ctrl-Up: go to cell start\n",
      "\n",
      "Ctrl-End: go to cell end\n",
      "\n",
      "Ctrl-Down: go to cell end\n",
      "\n",
      "Ctrl-Left: go one word left\n",
      "\n",
      "\n",
      "Ctrl-Right: go one word right\n",
      "\n",
      "Ctrl-Backspace: delete word before\n",
      "\n",
      "Ctrl-Delete: delete word after\n",
      "\n",
      "Esc: command mode\n",
      "\n",
      "Ctrl-M: command mode\n",
      "\n",
      "Shift-Enter: run cell, select below\n",
      "\n",
      "Ctrl-Enter: run cell\n",
      "\n",
      "Alt-Enter: run cell, insert below\n",
      "\n",
      "Ctrl-Shift--: split cell\n",
      "\n",
      "Ctrl-Shift-Subtract: split cell\n",
      "\n",
      "Ctrl-S: Save and Checkpoint\n",
      "\n",
      "Shift: ignore\n",
      "\n",
      "Up: move cursor up or previous cell\n",
      "\n",
      "Down: move cursor down or next cell\n"
     ]
    }
   ],
   "source": [
    "for each_line in data:\n",
    "    print(each_line, end='')"
   ]
  },
  {
   "cell_type": "markdown",
   "metadata": {},
   "source": [
    "###注意：处理完文件，一定将其关闭"
   ]
  },
  {
   "cell_type": "code",
   "execution_count": 14,
   "metadata": {
    "collapsed": true
   },
   "outputs": [],
   "source": [
    "data.close()"
   ]
  },
  {
   "cell_type": "markdown",
   "metadata": {},
   "source": [
    "#2.进一步查看数据，文件的格式"
   ]
  },
  {
   "cell_type": "markdown",
   "metadata": {},
   "source": [
    "split()方法返回一个字符串列表，这会赋至一个目标标识符列表。多重赋值。"
   ]
  },
  {
   "cell_type": "code",
   "execution_count": 15,
   "metadata": {
    "collapsed": false
   },
   "outputs": [
    {
     "ename": "ValueError",
     "evalue": "too many values to unpack (expected 2)",
     "output_type": "error",
     "traceback": [
      "\u001b[1;31m---------------------------------------------------------------------------\u001b[0m",
      "\u001b[1;31mValueError\u001b[0m                                Traceback (most recent call last)",
      "\u001b[1;32m<ipython-input-15-36fc6c4eda12>\u001b[0m in \u001b[0;36m<module>\u001b[1;34m()\u001b[0m\n\u001b[0;32m      2\u001b[0m \u001b[1;33m\u001b[0m\u001b[0m\n\u001b[0;32m      3\u001b[0m \u001b[1;32mfor\u001b[0m \u001b[0meach_line\u001b[0m \u001b[1;32min\u001b[0m \u001b[0mdata\u001b[0m\u001b[1;33m:\u001b[0m\u001b[1;33m\u001b[0m\u001b[0m\n\u001b[1;32m----> 4\u001b[1;33m     \u001b[1;33m(\u001b[0m\u001b[0mshortcut\u001b[0m\u001b[1;33m,\u001b[0m \u001b[0mmeaning\u001b[0m\u001b[1;33m)\u001b[0m \u001b[1;33m=\u001b[0m \u001b[0meach_line\u001b[0m\u001b[1;33m.\u001b[0m\u001b[0msplit\u001b[0m\u001b[1;33m(\u001b[0m\u001b[1;34m':'\u001b[0m\u001b[1;33m)\u001b[0m\u001b[1;33m\u001b[0m\u001b[0m\n\u001b[0m\u001b[0;32m      5\u001b[0m     \u001b[0mprint\u001b[0m\u001b[1;33m(\u001b[0m\u001b[0mshortcut\u001b[0m\u001b[1;33m,\u001b[0m \u001b[0mend\u001b[0m\u001b[1;33m=\u001b[0m\u001b[1;34m''\u001b[0m\u001b[1;33m)\u001b[0m\u001b[1;33m\u001b[0m\u001b[0m\n\u001b[0;32m      6\u001b[0m     \u001b[0mprint\u001b[0m\u001b[1;33m(\u001b[0m\u001b[1;34m' said: '\u001b[0m\u001b[1;33m,\u001b[0m \u001b[0mend\u001b[0m\u001b[1;33m=\u001b[0m\u001b[1;34m''\u001b[0m\u001b[1;33m)\u001b[0m\u001b[1;33m\u001b[0m\u001b[0m\n",
      "\u001b[1;31mValueError\u001b[0m: too many values to unpack (expected 2)"
     ]
    }
   ],
   "source": [
    "data = open('shortcut.txt')\n",
    "\n",
    "for each_line in data:\n",
    "    (shortcut, meaning) = each_line.split(':')\n",
    "    print(shortcut, end='')\n",
    "    print(' said: ', end='')\n",
    "    print(meaning, end='')\n",
    "data.close()   "
   ]
  },
  {
   "cell_type": "markdown",
   "metadata": {},
   "source": [
    "一行数据有两个冒号，多余的数据导致split()无法处理，值过多。split()的可选参数控制着将数据分解为多少个部分。默认地，数据会尽可能多的分解。设为1，分解为两部分。"
   ]
  },
  {
   "cell_type": "code",
   "execution_count": 16,
   "metadata": {
    "collapsed": false
   },
   "outputs": [
    {
     "name": "stdout",
     "output_type": "stream",
     "text": [
      "Help on built-in function split:\n",
      "\n",
      "split(...) method of builtins.str instance\n",
      "    S.split(sep=None, maxsplit=-1) -> list of strings\n",
      "    \n",
      "    Return a list of the words in S, using sep as the\n",
      "    delimiter string.  If maxsplit is given, at most maxsplit\n",
      "    splits are done. If sep is not specified or is None, any\n",
      "    whitespace string is a separator and empty strings are\n",
      "    removed from the result.\n",
      "\n"
     ]
    }
   ],
   "source": [
    "help(each_line.split)"
   ]
  },
  {
   "cell_type": "code",
   "execution_count": 17,
   "metadata": {
    "collapsed": false
   },
   "outputs": [
    {
     "name": "stdout",
     "output_type": "stream",
     "text": [
      "Keyboard_shortcuts said: usage:meanings\n"
     ]
    },
    {
     "ename": "ValueError",
     "evalue": "need more than 1 value to unpack",
     "output_type": "error",
     "traceback": [
      "\u001b[1;31m---------------------------------------------------------------------------\u001b[0m",
      "\u001b[1;31mValueError\u001b[0m                                Traceback (most recent call last)",
      "\u001b[1;32m<ipython-input-17-c038a9c432a7>\u001b[0m in \u001b[0;36m<module>\u001b[1;34m()\u001b[0m\n\u001b[0;32m      2\u001b[0m \u001b[1;33m\u001b[0m\u001b[0m\n\u001b[0;32m      3\u001b[0m \u001b[1;32mfor\u001b[0m \u001b[0meach_line\u001b[0m \u001b[1;32min\u001b[0m \u001b[0mdata\u001b[0m\u001b[1;33m:\u001b[0m\u001b[1;33m\u001b[0m\u001b[0m\n\u001b[1;32m----> 4\u001b[1;33m     \u001b[1;33m(\u001b[0m\u001b[0mshortcut\u001b[0m\u001b[1;33m,\u001b[0m \u001b[0mmeaning\u001b[0m\u001b[1;33m)\u001b[0m \u001b[1;33m=\u001b[0m \u001b[0meach_line\u001b[0m\u001b[1;33m.\u001b[0m\u001b[0msplit\u001b[0m\u001b[1;33m(\u001b[0m\u001b[1;34m':'\u001b[0m\u001b[1;33m,\u001b[0m\u001b[1;36m1\u001b[0m\u001b[1;33m)\u001b[0m\u001b[1;33m\u001b[0m\u001b[0m\n\u001b[0m\u001b[0;32m      5\u001b[0m     \u001b[0mprint\u001b[0m\u001b[1;33m(\u001b[0m\u001b[0mshortcut\u001b[0m\u001b[1;33m,\u001b[0m \u001b[0mend\u001b[0m\u001b[1;33m=\u001b[0m\u001b[1;34m''\u001b[0m\u001b[1;33m)\u001b[0m\u001b[1;33m\u001b[0m\u001b[0m\n\u001b[0;32m      6\u001b[0m     \u001b[0mprint\u001b[0m\u001b[1;33m(\u001b[0m\u001b[1;34m' said: '\u001b[0m\u001b[1;33m,\u001b[0m \u001b[0mend\u001b[0m\u001b[1;33m=\u001b[0m\u001b[1;34m''\u001b[0m\u001b[1;33m)\u001b[0m\u001b[1;33m\u001b[0m\u001b[0m\n",
      "\u001b[1;31mValueError\u001b[0m: need more than 1 value to unpack"
     ]
    }
   ],
   "source": [
    "data = open('shortcut.txt')\n",
    "\n",
    "for each_line in data:\n",
    "    (shortcut, meaning) = each_line.split(':',1)\n",
    "    print(shortcut, end='')\n",
    "    print(' said: ', end='')\n",
    "    print(meaning, end='')\n",
    "data.close()   "
   ]
  },
  {
   "cell_type": "markdown",
   "metadata": {},
   "source": [
    "数据行不包含冒号，发生值错误,需要不只一个值。"
   ]
  },
  {
   "cell_type": "markdown",
   "metadata": {},
   "source": [
    "###增加额外逻辑"
   ]
  },
  {
   "cell_type": "code",
   "execution_count": 18,
   "metadata": {
    "collapsed": false
   },
   "outputs": [
    {
     "data": {
      "text/plain": [
       "-1"
      ]
     },
     "execution_count": 18,
     "metadata": {},
     "output_type": "execute_result"
    }
   ],
   "source": [
    "each_line = 'I tell you, there is no such thing as a flying circus.'\n",
    "each_line.find(':')  #返回-1表示未找到。"
   ]
  },
  {
   "cell_type": "code",
   "execution_count": 20,
   "metadata": {
    "collapsed": false
   },
   "outputs": [
    {
     "data": {
      "text/plain": [
       "10"
      ]
     },
     "execution_count": 20,
     "metadata": {},
     "output_type": "execute_result"
    }
   ],
   "source": [
    "each_line = 'I tell you: there is no such thing as a flying circus.'\n",
    "each_line.find(':')  #找到,返回一个正的索引值。"
   ]
  },
  {
   "cell_type": "code",
   "execution_count": 22,
   "metadata": {
    "collapsed": false
   },
   "outputs": [
    {
     "name": "stdout",
     "output_type": "stream",
     "text": [
      "Keyboard_shortcuts said: usage:meanings\n",
      "Enter said:  enter edit mode\n",
      "Shift-Enter said:  run cell, select below\n",
      "Ctrl-Enter said:  run cell\n",
      "Alt-Enter said:  run cell, insert below\n",
      "Y said:  to code\n",
      "M said:  to markdown\n",
      "R said:  to raw\n",
      "1 said:  to heading 1\n",
      "2 said:  to heading 2\n",
      "3 said:  to heading 3\n",
      "4 said:  to heading 4\n",
      "5 said:  to heading 5\n",
      "6 said:  to heading 6\n",
      "Up said:  select cell above\n",
      "K said:  select cell above\n",
      "Down said:  select cell below\n",
      "J said:  select cell below\n",
      "A said:  insert cell above\n",
      "B said:  insert cell below\n",
      "X said:  cut selected cell\n",
      "C said:  copy selected cell\n",
      "Shift-V said:  paste cell above\n",
      "V said:  paste cell below\n",
      "Z said:  undo last cell deletion\n",
      "D,D said:  delete selected cell\n",
      "Shift-M said:  merge cell below\n",
      "Ctrl-S said:  Save and Checkpoint\n",
      "S said:  Save and Checkpoint\n",
      "L said:  toggle line numbers\n",
      "O said:  toggle output\n",
      "Shift-O said:  toggle output scrolling\n",
      "Esc said:  close pager\n",
      "Q said:  close pager\n",
      "H said:  show keyboard shortcut help dialog\n",
      "I,I said:  interrupt kernel\n",
      "0,0 said:  restart kernel\n",
      "Shift said:  ignore\n",
      "Shift-Space said:  scroll up\n",
      "Space said:  scroll down\n",
      "Tab said:  code completion or indent\n",
      "Shift-Tab said:  tooltip\n",
      "Ctrl-] said:  indent\n",
      "Ctrl-[ said:  dedent\n",
      "Ctrl-A said:  select all\n",
      "Ctrl-Z said:  undo\n",
      "Ctrl-Shift-Z said:  redo\n",
      "Ctrl-Y said:  redo\n",
      "Ctrl-Home said:  go to cell start\n",
      "Ctrl-Up said:  go to cell start\n",
      "Ctrl-End said:  go to cell end\n",
      "Ctrl-Down said:  go to cell end\n",
      "Ctrl-Left said:  go one word left\n",
      "Ctrl-Right said:  go one word right\n",
      "Ctrl-Backspace said:  delete word before\n",
      "Ctrl-Delete said:  delete word after\n",
      "Esc said:  command mode\n",
      "Ctrl-M said:  command mode\n",
      "Shift-Enter said:  run cell, select below\n",
      "Ctrl-Enter said:  run cell\n",
      "Alt-Enter said:  run cell, insert below\n",
      "Ctrl-Shift-- said:  split cell\n",
      "Ctrl-Shift-Subtract said:  split cell\n",
      "Ctrl-S said:  Save and Checkpoint\n",
      "Shift said:  ignore\n",
      "Up said:  move cursor up or previous cell\n",
      "Down said:  move cursor down or next cell\n"
     ]
    }
   ],
   "source": [
    "data = open('shortcut.txt')\n",
    "\n",
    "for each_line in data:\n",
    "    if not each_line.find(':') == -1:\n",
    "        (shortcut, meaning) = each_line.split(':',1)\n",
    "        print(shortcut, end='')\n",
    "        print(' said: ', end='')\n",
    "        print(meaning, end='')\n",
    "data.close()   "
   ]
  },
  {
   "cell_type": "markdown",
   "metadata": {},
   "source": [
    "#2.处理异常"
   ]
  },
  {
   "cell_type": "markdown",
   "metadata": {},
   "source": [
    "try/except机制：可以在运行时系统地处理异常和错误。"
   ]
  },
  {
   "cell_type": "code",
   "execution_count": 23,
   "metadata": {
    "collapsed": false
   },
   "outputs": [
    {
     "name": "stdout",
     "output_type": "stream",
     "text": [
      "Keyboard_shortcuts said: usage:meanings\n",
      "Enter said:  enter edit mode\n",
      "Shift-Enter said:  run cell, select below\n",
      "Ctrl-Enter said:  run cell\n",
      "Alt-Enter said:  run cell, insert below\n",
      "Y said:  to code\n",
      "M said:  to markdown\n",
      "R said:  to raw\n",
      "1 said:  to heading 1\n",
      "2 said:  to heading 2\n",
      "3 said:  to heading 3\n",
      "4 said:  to heading 4\n",
      "5 said:  to heading 5\n",
      "6 said:  to heading 6\n",
      "Up said:  select cell above\n",
      "K said:  select cell above\n",
      "Down said:  select cell below\n",
      "J said:  select cell below\n",
      "A said:  insert cell above\n",
      "B said:  insert cell below\n",
      "X said:  cut selected cell\n",
      "C said:  copy selected cell\n",
      "Shift-V said:  paste cell above\n",
      "V said:  paste cell below\n",
      "Z said:  undo last cell deletion\n",
      "D,D said:  delete selected cell\n",
      "Shift-M said:  merge cell below\n",
      "Ctrl-S said:  Save and Checkpoint\n",
      "S said:  Save and Checkpoint\n",
      "L said:  toggle line numbers\n",
      "O said:  toggle output\n",
      "Shift-O said:  toggle output scrolling\n",
      "Esc said:  close pager\n",
      "Q said:  close pager\n",
      "H said:  show keyboard shortcut help dialog\n",
      "I,I said:  interrupt kernel\n",
      "0,0 said:  restart kernel\n",
      "Shift said:  ignore\n",
      "Shift-Space said:  scroll up\n",
      "Space said:  scroll down\n",
      "Tab said:  code completion or indent\n",
      "Shift-Tab said:  tooltip\n",
      "Ctrl-] said:  indent\n",
      "Ctrl-[ said:  dedent\n",
      "Ctrl-A said:  select all\n",
      "Ctrl-Z said:  undo\n",
      "Ctrl-Shift-Z said:  redo\n",
      "Ctrl-Y said:  redo\n",
      "Ctrl-Home said:  go to cell start\n",
      "Ctrl-Up said:  go to cell start\n",
      "Ctrl-End said:  go to cell end\n",
      "Ctrl-Down said:  go to cell end\n",
      "Ctrl-Left said:  go one word left\n",
      "Ctrl-Right said:  go one word right\n",
      "Ctrl-Backspace said:  delete word before\n",
      "Ctrl-Delete said:  delete word after\n",
      "Esc said:  command mode\n",
      "Ctrl-M said:  command mode\n",
      "Shift-Enter said:  run cell, select below\n",
      "Ctrl-Enter said:  run cell\n",
      "Alt-Enter said:  run cell, insert below\n",
      "Ctrl-Shift-- said:  split cell\n",
      "Ctrl-Shift-Subtract said:  split cell\n",
      "Ctrl-S said:  Save and Checkpoint\n",
      "Shift said:  ignore\n",
      "Up said:  move cursor up or previous cell\n",
      "Down said:  move cursor down or next cell\n"
     ]
    }
   ],
   "source": [
    "data = open('shortcut.txt')\n",
    "\n",
    "for each_line in data:\n",
    "    try:\n",
    "        (shortcut, meaning) = each_line.split(':',1)\n",
    "        print(shortcut, end='')\n",
    "        print(' said: ', end='')\n",
    "        print(meaning, end='')\n",
    "    except:\n",
    "        pass\n",
    "data.close()   "
   ]
  },
  {
   "cell_type": "markdown",
   "metadata": {},
   "source": [
    "##两种方法：额外代码，异常处理程序\n"
   ]
  },
  {
   "cell_type": "markdown",
   "metadata": {},
   "source": [
    "#3.处理缺少的文件\n",
    "\n",
    "以上两种方式都会产生错误，产生一个IOError."
   ]
  },
  {
   "cell_type": "markdown",
   "metadata": {},
   "source": [
    "###A.增加更多的错误检查代码"
   ]
  },
  {
   "cell_type": "code",
   "execution_count": 26,
   "metadata": {
    "collapsed": false
   },
   "outputs": [
    {
     "name": "stdout",
     "output_type": "stream",
     "text": [
      "The data file is missing!\n"
     ]
    }
   ],
   "source": [
    "import os \n",
    "\n",
    "if os.path.exists('shortcuts.txt'):\n",
    "    data = open('shortcuts.txt')\n",
    "\n",
    "    for each_line in data:\n",
    "        if not each_line.find(':') == -1:\n",
    "            (shortcut, meaning) = each_line.split(':',1)\n",
    "            print(shortcut, end='')\n",
    "            print(' said: ', end='')\n",
    "            print(meaning, end='')\n",
    "    data.close()\n",
    "else:\n",
    "    print('The data file is missing!')\n"
   ]
  },
  {
   "cell_type": "markdown",
   "metadata": {},
   "source": [
    "###B.增加一层异常处理"
   ]
  },
  {
   "cell_type": "code",
   "execution_count": 27,
   "metadata": {
    "collapsed": false
   },
   "outputs": [
    {
     "name": "stdout",
     "output_type": "stream",
     "text": [
      "The data file is missing!\n"
     ]
    }
   ],
   "source": [
    "try:\n",
    "    data = open('shortcuts.txt')\n",
    "\n",
    "    for each_line in data:\n",
    "        try:\n",
    "            (shortcut, meaning) = each_line.split(':',1)\n",
    "            print(shortcut, end='')\n",
    "            print(' said: ', end='')\n",
    "            print(meaning, end='')\n",
    "        except:\n",
    "            pass\n",
    "    data.close()\n",
    "except:\n",
    "    print('The data file is missing!')\n"
   ]
  },
  {
   "cell_type": "markdown",
   "metadata": {},
   "source": [
    "###需要以一种不那么一般化的方式使用except.比如ValueError...IOError..."
   ]
  },
  {
   "cell_type": "code",
   "execution_count": 28,
   "metadata": {
    "collapsed": false
   },
   "outputs": [
    {
     "name": "stdout",
     "output_type": "stream",
     "text": [
      "The data file is missing!\n"
     ]
    }
   ],
   "source": [
    "try:\n",
    "    data = open('shortcuts.txt')\n",
    "\n",
    "    for each_line in data:\n",
    "        try:\n",
    "            (shortcut, meaning) = each_line.split(':',1)\n",
    "            print(shortcut, end='')\n",
    "            print(' said: ', end='')\n",
    "            print(meaning, end='')\n",
    "        except ValueError:\n",
    "            pass\n",
    "    data.close()\n",
    "except IOError:\n",
    "    print('The data file is missing!')"
   ]
  },
  {
   "cell_type": "code",
   "execution_count": null,
   "metadata": {
    "collapsed": true
   },
   "outputs": [],
   "source": []
  }
 ],
 "metadata": {
  "kernelspec": {
   "display_name": "Python 3",
   "language": "python",
   "name": "python3"
  },
  "language_info": {
   "codemirror_mode": {
    "name": "ipython",
    "version": 3
   },
   "file_extension": ".py",
   "mimetype": "text/x-python",
   "name": "python",
   "nbconvert_exporter": "python",
   "pygments_lexer": "ipython3",
   "version": "3.4.3"
  }
 },
 "nbformat": 4,
 "nbformat_minor": 0
}
