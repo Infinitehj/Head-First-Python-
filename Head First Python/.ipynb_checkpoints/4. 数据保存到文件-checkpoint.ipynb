{
 "cells": [
  {
   "cell_type": "code",
   "execution_count": 2,
   "metadata": {
    "collapsed": false
   },
   "outputs": [
    {
     "data": {
      "text/plain": [
       "'C:\\\\Users\\\\dell\\\\Desktop\\\\Head First Python'"
      ]
     },
     "execution_count": 2,
     "metadata": {},
     "output_type": "execute_result"
    }
   ],
   "source": [
    "import os;\n",
    "os.getcwd()"
   ]
  },
  {
   "cell_type": "code",
   "execution_count": 3,
   "metadata": {
    "collapsed": false
   },
   "outputs": [
    {
     "data": {
      "text/plain": [
       "'C:\\\\Users\\\\dell\\\\Desktop\\\\Head First Python\\\\ch3'"
      ]
     },
     "execution_count": 3,
     "metadata": {},
     "output_type": "execute_result"
    }
   ],
   "source": [
    "os.chdir('C:\\\\Users\\\\dell\\\\Desktop\\\\Head First Python\\\\ch3')\n",
    "os.getcwd()"
   ]
  },
  {
   "cell_type": "code",
   "execution_count": 12,
   "metadata": {
    "collapsed": false
   },
   "outputs": [
    {
     "name": "stdout",
     "output_type": "stream",
     "text": [
      "['Is this the right room for an argument?', \"No you haven't!\", 'When?', \"No you didn't!\", \"You didn't!\", 'You did not!', 'Ah! (taking out his wallet and paying) Just the five minutes.', 'You most certainly did not!', \"Oh no you didn't!\", \"Oh no you didn't!\", \"Oh look, this isn't an argument!\", \"No it isn't!\", \"It's just contradiction!\", 'It IS!', 'You just contradicted me!', 'You DID!', 'You did just then!', '(exasperated) Oh, this is futile!!', 'Yes it is!']\n",
      "[\"I've told you once.\", 'Yes I have.', 'Just now.', 'Yes I did!', \"I'm telling you, I did!\", \"Oh I'm sorry, is this a five minute argument, or the full half hour?\", 'Just the five minutes. Thank you.', 'Anyway, I did.', \"Now let's get one thing quite clear: I most definitely told you!\", 'Oh yes I did!', 'Oh yes I did!', 'Yes it is!', \"No it isn't!\", 'It is NOT!', \"No I didn't!\", 'No no no!', 'Nonsense!', \"No it isn't!\"]\n"
     ]
    }
   ],
   "source": [
    "man = []\n",
    "other = []\n",
    "\n",
    "\n",
    "try:\n",
    "    data = open('sketch.txt')\n",
    "\n",
    "    for each_line in data:\n",
    "        try:\n",
    "            (role, line_spoken) = each_line.split(':',1)\n",
    "            line_spoken = line_spoken.strip()\n",
    "        \n",
    "            if role == 'Man':\n",
    "                man.append(line_spoken)\n",
    "            elif role == 'Other Man':\n",
    "                other.append(line_spoken)\n",
    "\n",
    "        except ValueError:\n",
    "            pass\n",
    "    data.close()\n",
    "except IOError:\n",
    "    print('The data file is missing!')\n",
    "\n",
    "print(man)\n",
    "print(other)"
   ]
  },
  {
   "cell_type": "markdown",
   "metadata": {},
   "source": [
    "##1.写模式打开文件"
   ]
  },
  {
   "cell_type": "markdown",
   "metadata": {},
   "source": [
    "w --打开指定的文件夹完成写，如果已存在，则会清空现有内容。\n",
    "\n",
    "a --追加到一个文件\n",
    "\n",
    "w+ --打开一个文件完成写和读（不清除）\n",
    "\n",
    "如果文件不存在，则会先创建再打开写。"
   ]
  },
  {
   "cell_type": "code",
   "execution_count": 8,
   "metadata": {
    "collapsed": true
   },
   "outputs": [],
   "source": [
    "man = []\n",
    "other = []\n",
    "\n",
    "\n",
    "try:\n",
    "    data = open('sketch.txt')\n",
    "\n",
    "    for each_line in data:\n",
    "        try:\n",
    "            (role, line_spoken) = each_line.split(':',1)\n",
    "            line_spoken = line_spoken.strip()\n",
    "        \n",
    "            if role == 'Man':\n",
    "                man.append(line_spoken)\n",
    "            elif role == 'Other Man':\n",
    "                other.append(line_spoken)\n",
    "\n",
    "        except ValueError:\n",
    "            pass\n",
    "    data.close()\n",
    "except IOError:\n",
    "    print('The data file is missing!')\n",
    "\n",
    "try:\n",
    "    man_file = open('man_data.txt', 'w')\n",
    "    other_file = open('other_data.txt', 'w')\n",
    "    print(man,file = man_file)\n",
    "    print(other,file = other_file)\n",
    "    \n",
    "\n",
    "except IOError as err:\n",
    "    print('File error:'+ str(err))\n",
    "finally:\n",
    "    if 'man_file' in locals():\n",
    "        man_file.close()\n",
    "    if 'other_file' in locals():\n",
    "        other_file.close()\n",
    "    "
   ]
  },
  {
   "cell_type": "markdown",
   "metadata": {},
   "source": [
    "###不论出现什么错误都必须执行某些代码时，可以向try语句的finally组增加代码。"
   ]
  },
  {
   "cell_type": "markdown",
   "metadata": {},
   "source": [
    "locals()返回当前作用域中定义的所有名的一个集合。"
   ]
  },
  {
   "cell_type": "markdown",
   "metadata": {},
   "source": [
    "#2.with处理文件"
   ]
  },
  {
   "cell_type": "markdown",
   "metadata": {},
   "source": [
    "妥善关闭一个可能打开的文件"
   ]
  },
  {
   "cell_type": "code",
   "execution_count": 15,
   "metadata": {
    "collapsed": true
   },
   "outputs": [],
   "source": [
    "try:\n",
    "    with open('man_data.txt', 'w') as man_file:\n",
    "        print(man,file = man_file)    \n",
    "    with open('other_data.txt', 'w') as other_file:\n",
    "        print(other,file = other_file)\n",
    "#with open('man_data.txt', 'w') as man_file , with open('other_data.txt', 'w') as other_file:\n",
    "\n",
    "except IOError as err:\n",
    "    print('File error: '+ str(err))"
   ]
  },
  {
   "cell_type": "markdown",
   "metadata": {},
   "source": [
    "#3.标准输出"
   ]
  },
  {
   "cell_type": "code",
   "execution_count": 32,
   "metadata": {
    "collapsed": false
   },
   "outputs": [
    {
     "name": "stdout",
     "output_type": "stream",
     "text": [
      "Is this the right room for an argument?\n",
      "No you haven't!\n",
      "When?\n",
      "No you didn't!\n",
      "You didn't!\n",
      "You did not!\n",
      "Ah! (taking out his wallet and paying) Just the five minutes.\n",
      "You most certainly did not!\n",
      "Oh no you didn't!\n",
      "Oh no you didn't!\n",
      "Oh look, this isn't an argument!\n",
      "No it isn't!\n",
      "It's just contradiction!\n",
      "It IS!\n",
      "You just contradicted me!\n",
      "You DID!\n",
      "You did just then!\n",
      "(exasperated) Oh, this is futile!!\n",
      "Yes it is!\n",
      "Is this the right room for an argument?\n",
      "No you haven't!\n",
      "When?\n",
      "No you didn't!\n",
      "You didn't!\n",
      "You did not!\n",
      "Ah! (taking out his wallet and paying) Just the five minutes.\n",
      "You most certainly did not!\n",
      "Oh no you didn't!\n",
      "Oh no you didn't!\n",
      "Oh look, this isn't an argument!\n",
      "No it isn't!\n",
      "It's just contradiction!\n",
      "It IS!\n",
      "You just contradicted me!\n",
      "You DID!\n",
      "You did just then!\n",
      "(exasperated) Oh, this is futile!!\n",
      "Yes it is!\n"
     ]
    }
   ],
   "source": [
    "#version = 1.1.0\n",
    "import sys\n",
    "def print_lol(the_list,indent = False,level=0,fn = sys.stdout):\n",
    "\n",
    "    for each_item in the_list:      \n",
    "        if isinstance(each_item,list):\n",
    "            print_lol(each_item,indent,level+1,fn)\n",
    "        else:\n",
    "            for tab in range(level):\n",
    "                print('\\t', end='',file = fn)\n",
    "            print(each_item,file = fn)\n",
    "\n",
    "\n",
    "man = []\n",
    "other = []\n",
    "\n",
    "\n",
    "try:\n",
    "    data = open('sketch.txt')\n",
    "\n",
    "    for each_line in data:\n",
    "        try:\n",
    "            (role, line_spoken) = each_line.split(':',1)\n",
    "            line_spoken = line_spoken.strip()\n",
    "        \n",
    "            if role == 'Man':\n",
    "                man.append(line_spoken)\n",
    "            elif role == 'Other Man':\n",
    "                other.append(line_spoken)\n",
    "\n",
    "        except ValueError:\n",
    "            pass\n",
    "    data.close()\n",
    "except IOError:\n",
    "    print('The data file is missing!')\n",
    "\n",
    "               \n",
    "try:\n",
    "    with open('man_data.txt', 'w') as man_file:\n",
    "        print_lol(man)\n",
    "        print_lol(man,fn=man_file)    \n",
    "    with open('other_data.txt', 'w') as other_file:\n",
    "        print_lol(other,fn=other_file)\n",
    "#with open('man_data.txt', 'w') as man_file , with open('other_data.txt', 'w') as other_file:\n",
    "\n",
    "except IOError as err:\n",
    "    print('File error: '+ str(err))\n",
    "    "
   ]
  },
  {
   "cell_type": "code",
   "execution_count": 30,
   "metadata": {
    "collapsed": false
   },
   "outputs": [
    {
     "name": "stdout",
     "output_type": "stream",
     "text": [
      "The Holy Grail\n",
      "1975\n",
      "Terry Jones & Terry Gilliam\n",
      "91\n",
      "\tGraham Chapman\n",
      "\t\tMichael Palin\n",
      "\t\tJohn Cleese\n",
      "\t\tTerry Gilliam\n",
      "\t\tEric Idle\n",
      "\t\tTerry Jones\n"
     ]
    }
   ],
   "source": [
    "movies = ['The Holy Grail', 1975, 'Terry Jones & Terry Gilliam', 91,\n",
    "              ['Graham Chapman', \n",
    "                  ['Michael Palin', 'John Cleese', 'Terry Gilliam', 'Eric Idle', 'Terry Jones']]]\n",
    "\n",
    "print_lol(movies)"
   ]
  },
  {
   "cell_type": "code",
   "execution_count": 31,
   "metadata": {
    "collapsed": false
   },
   "outputs": [
    {
     "name": "stdout",
     "output_type": "stream",
     "text": [
      "The Holy Grail\n",
      "1975\n",
      "Terry Jones & Terry Gilliam\n",
      "91\n",
      "\tGraham Chapman\n",
      "\t\tMichael Palin\n",
      "\t\tJohn Cleese\n",
      "\t\tTerry Gilliam\n",
      "\t\tEric Idle\n",
      "\t\tTerry Jones\n",
      "The Holy Grail\n",
      "1975\n",
      "Terry Jones & Terry Gilliam\n",
      "91\n",
      "\tGraham Chapman\n",
      "\t\tMichael Palin\n",
      "\t\tJohn Cleese\n",
      "\t\tTerry Gilliam\n",
      "\t\tEric Idle\n",
      "\t\tTerry Jones\n"
     ]
    }
   ],
   "source": [
    "\n",
    "print_lol(movies)\n",
    "print_lol(movies,2)"
   ]
  },
  {
   "cell_type": "code",
   "execution_count": 33,
   "metadata": {
    "collapsed": false
   },
   "outputs": [
    {
     "name": "stdout",
     "output_type": "stream",
     "text": [
      "Help on built-in function print in module builtins:\n",
      "\n",
      "print(...)\n",
      "    print(value, ..., sep=' ', end='\\n', file=sys.stdout, flush=False)\n",
      "    \n",
      "    Prints the values to a stream, or to sys.stdout by default.\n",
      "    Optional keyword arguments:\n",
      "    file:  a file-like object (stream); defaults to the current sys.stdout.\n",
      "    sep:   string inserted between values, default a space.\n",
      "    end:   string appended after the last value, default a newline.\n",
      "    flush: whether to forcibly flush the stream.\n",
      "\n"
     ]
    }
   ],
   "source": [
    "help(print)"
   ]
  },
  {
   "cell_type": "markdown",
   "metadata": {},
   "source": [
    "#4.腌制数据"
   ]
  },
  {
   "cell_type": "markdown",
   "metadata": {},
   "source": [
    "Python提供了一个标准库，名为pickle，可以保存和加载几乎任何Python数据对象，包括列表。\n",
    "\n",
    "一旦把数据腌制到一个文件，将会持久储存，可以存储在磁盘上，放在数据库中，或者网络传输到另一个计算机。\n",
    "\n",
    "Python内存中的数据通过pickle引擎腌制，也可解除腌制。"
   ]
  },
  {
   "cell_type": "markdown",
   "metadata": {},
   "source": [
    "###用dump保存，用load恢复，处理腌制数据时唯一要求是必须以二进制访问模式打开这些文件。"
   ]
  },
  {
   "cell_type": "code",
   "execution_count": 35,
   "metadata": {
    "collapsed": false
   },
   "outputs": [],
   "source": [
    "import pickle\n",
    "man = []\n",
    "other = []\n",
    "\n",
    "\n",
    "try:\n",
    "    data = open('sketch.txt')\n",
    "\n",
    "    for each_line in data:\n",
    "        try:\n",
    "            (role, line_spoken) = each_line.split(':',1)\n",
    "            line_spoken = line_spoken.strip()\n",
    "        \n",
    "            if role == 'Man':\n",
    "                man.append(line_spoken)\n",
    "            elif role == 'Other Man':\n",
    "                other.append(line_spoken)\n",
    "\n",
    "        except ValueError:\n",
    "            pass\n",
    "    data.close()\n",
    "except IOError:\n",
    "    print('The data file is missing!')\n",
    "\n",
    "               \n",
    "try:\n",
    "\n",
    "    with open('man_data.txt', 'wb') as man_file,open('other_data.txt', 'wb') as other_file:\n",
    "        pickle.dump(man,man_file)\n",
    "        pickle.dump(other,other_file)\n",
    "except IOError as err:\n",
    "    print('File error: '+ str(err))\n",
    "\n",
    "except pickle.PickleError as perr:\n",
    "    print('Pickling error: '+ str(perr))"
   ]
  },
  {
   "cell_type": "code",
   "execution_count": 36,
   "metadata": {
    "collapsed": false
   },
   "outputs": [
    {
     "name": "stdout",
     "output_type": "stream",
     "text": [
      "Is this the right room for an argument?\n",
      "No you haven't!\n",
      "When?\n",
      "No you didn't!\n",
      "You didn't!\n",
      "You did not!\n",
      "Ah! (taking out his wallet and paying) Just the five minutes.\n",
      "You most certainly did not!\n",
      "Oh no you didn't!\n",
      "Oh no you didn't!\n",
      "Oh look, this isn't an argument!\n",
      "No it isn't!\n",
      "It's just contradiction!\n",
      "It IS!\n",
      "You just contradicted me!\n",
      "You DID!\n",
      "You did just then!\n",
      "(exasperated) Oh, this is futile!!\n",
      "Yes it is!\n"
     ]
    }
   ],
   "source": [
    "new_man = []\n",
    "try:\n",
    "    with open('man_data.txt','rb') as man_file:\n",
    "        new_man = pickle.load(man_file)\n",
    "        \n",
    "except IOError as err:\n",
    "    print('File error: '+ str(err))\n",
    "except pickle.PickleError as perr:\n",
    "    print('Pickling error: '+ str(perr))\n",
    "print_lol(new_man)"
   ]
  },
  {
   "cell_type": "code",
   "execution_count": 37,
   "metadata": {
    "collapsed": false
   },
   "outputs": [
    {
     "name": "stdout",
     "output_type": "stream",
     "text": [
      "Is this the right room for an argument?\n",
      "Yes it is!\n"
     ]
    }
   ],
   "source": [
    "print(new_man[0])\n",
    "print(new_man[-1])"
   ]
  },
  {
   "cell_type": "code",
   "execution_count": null,
   "metadata": {
    "collapsed": true
   },
   "outputs": [],
   "source": []
  }
 ],
 "metadata": {
  "kernelspec": {
   "display_name": "Python 3",
   "language": "python",
   "name": "python3"
  },
  "language_info": {
   "codemirror_mode": {
    "name": "ipython",
    "version": 3
   },
   "file_extension": ".py",
   "mimetype": "text/x-python",
   "name": "python",
   "nbconvert_exporter": "python",
   "pygments_lexer": "ipython3",
   "version": "3.4.3"
  }
 },
 "nbformat": 4,
 "nbformat_minor": 0
}
