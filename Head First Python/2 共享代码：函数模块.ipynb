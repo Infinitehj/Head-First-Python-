{
 "cells": [
  {
   "cell_type": "markdown",
   "metadata": {},
   "source": [
    "#1.函数转换为模块"
   ]
  },
  {
   "cell_type": "markdown",
   "metadata": {},
   "source": [
    "###模块就是一个包含Python代码的文本文件。文件名以.py结尾。"
   ]
  },
  {
   "cell_type": "code",
   "execution_count": 1,
   "metadata": {
    "collapsed": false
   },
   "outputs": [
    {
     "data": {
      "text/plain": [
       "['',\n",
       " 'D:\\\\360Downloads\\\\Anaconda3\\\\python34.zip',\n",
       " 'D:\\\\360Downloads\\\\Anaconda3\\\\DLLs',\n",
       " 'D:\\\\360Downloads\\\\Anaconda3\\\\lib',\n",
       " 'D:\\\\360Downloads\\\\Anaconda3',\n",
       " 'D:\\\\360Downloads\\\\Anaconda3\\\\lib\\\\site-packages',\n",
       " 'D:\\\\360Downloads\\\\Anaconda3\\\\lib\\\\site-packages\\\\Sphinx-1.3.1-py3.4.egg',\n",
       " 'D:\\\\360Downloads\\\\Anaconda3\\\\lib\\\\site-packages\\\\cryptography-0.9.1-py3.4-win-amd64.egg',\n",
       " 'D:\\\\360Downloads\\\\Anaconda3\\\\lib\\\\site-packages\\\\win32',\n",
       " 'D:\\\\360Downloads\\\\Anaconda3\\\\lib\\\\site-packages\\\\win32\\\\lib',\n",
       " 'D:\\\\360Downloads\\\\Anaconda3\\\\lib\\\\site-packages\\\\Pythonwin',\n",
       " 'D:\\\\360Downloads\\\\Anaconda3\\\\lib\\\\site-packages\\\\setuptools-17.1.1-py3.4.egg',\n",
       " 'D:\\\\360Downloads\\\\Anaconda3\\\\lib\\\\site-packages\\\\IPython\\\\extensions']"
      ]
     },
     "execution_count": 1,
     "metadata": {},
     "output_type": "execute_result"
    }
   ],
   "source": [
    "import sys; sys.path  #python模块放在计算机上的位置"
   ]
  },
  {
   "cell_type": "markdown",
   "metadata": {
    "collapsed": false
   },
   "source": [
    "准备发布：\n",
    "1. 首先为模块创建一个文件夹，模块文件复制到这个文件夹中。\n",
    "2. 在新文件夹中创建一个名为“setup.py”的文件。包含有关发布的元数据。\n",
    "3. 创建一个发布文件，在该文件夹中打开一个终端，\n",
    "    python3 setup.py sdist\n",
    "4. 将发布安装到你的Python本地副本中。\n",
    "    sudo python3 setup.py install"
   ]
  },
  {
   "cell_type": "markdown",
   "metadata": {
    "collapsed": true
   },
   "source": [
    "#2.导入模块并使用"
   ]
  },
  {
   "cell_type": "markdown",
   "metadata": {},
   "source": [
    "import nester\n",
    "nester.print_lol(cast)\n",
    "\n",
    "from nester import print_lol\n",
    "print_lol(cast)"
   ]
  },
  {
   "cell_type": "markdown",
   "metadata": {},
   "source": [
    "python中所有代码都与一个命名空间有关联。\n",
    "主Python程序中（IDLE Shell）与__main__的命名空间关联。内置函数（built-in functions, BIF）命名空间为__builtins__,自动包含在每一个Python程序里。代码放在其单独的模块中，Python会自动创建一个与模块同名的命名空间。命名空间名就像姓氏，对函数的调用做出限定。\n",
    " \n",
    "    module.function()\n",
    "    from module import function \n",
    "\n",
    "PyPI (Python Package Index)Python包索引。"
   ]
  },
  {
   "cell_type": "markdown",
   "metadata": {},
   "source": [
    "#3. BIF"
   ]
  },
  {
   "cell_type": "markdown",
   "metadata": {},
   "source": [
    "list()--工厂函数，创建一个新的空列表。\n",
    "\n",
    "range()--返回一个迭代器，根据需要生成一个指定范围的数字。\n",
    "    for num in range(4):\n",
    "        print(num)\n",
    "                                        \n",
    "enumerate()--创建成对数据的一个编号列表，从0开始。\n",
    "\n",
    "int()--将一个字符串或数转换为一个整数（如果可行）。\n",
    "\n",
    "id()--返回一个Python数据对象的唯一标识。\n",
    "\n",
    "next()--返回一个可迭代数据结构（列表）中的下一项。"
   ]
  },
  {
   "cell_type": "markdown",
   "metadata": {},
   "source": [
    "#4.可选参数"
   ]
  },
  {
   "cell_type": "markdown",
   "metadata": {},
   "source": [
    "参数的缺省值使得这个参数成为可选参数。函数支持不同的签名，但功能依旧。"
   ]
  },
  {
   "cell_type": "code",
   "execution_count": 1,
   "metadata": {
    "collapsed": false
   },
   "outputs": [
    {
     "name": "stdout",
     "output_type": "stream",
     "text": [
      "The Holy Grail\n",
      "1975\n",
      "Terry Jones & Terry Gilliam\n",
      "91\n",
      "\tGraham Chapman\n",
      "\t\tMichael Palin\n",
      "\t\tJohn Cleese\n",
      "\t\tTerry Gilliam\n",
      "\t\tEric Idle\n",
      "\t\tTerry Jones\n",
      "The Holy Grail\n",
      "1975\n",
      "Terry Jones & Terry Gilliam\n",
      "91\n",
      "\tGraham Chapman\n",
      "\t\tMichael Palin\n",
      "\t\tJohn Cleese\n",
      "\t\tTerry Gilliam\n",
      "\t\tEric Idle\n",
      "\t\tTerry Jones\n",
      "\t\tThe Holy Grail\n",
      "\t\t1975\n",
      "\t\tTerry Jones & Terry Gilliam\n",
      "\t\t91\n",
      "\t\t\tGraham Chapman\n",
      "\t\t\t\tMichael Palin\n",
      "\t\t\t\tJohn Cleese\n",
      "\t\t\t\tTerry Gilliam\n",
      "\t\t\t\tEric Idle\n",
      "\t\t\t\tTerry Jones\n"
     ]
    }
   ],
   "source": [
    "#version = 1.1.0\n",
    "def print_lol1(the_list,level=0):\n",
    "\n",
    "    for each_item in the_list:      \n",
    "        if isinstance(each_item,list):\n",
    "            print_lol1(each_item,level+1)\n",
    "        else:\n",
    "            for tab in range(level):\n",
    "                print('\\t', end='')#包含end=''作为print() BIF的一个参数会关闭其默认行为（即在输入中自动包含换行）\n",
    "            print(each_item)\n",
    "movies = ['The Holy Grail', 1975, 'Terry Jones & Terry Gilliam', 91,\n",
    "              ['Graham Chapman', \n",
    "                  ['Michael Palin', 'John Cleese', 'Terry Gilliam', 'Eric Idle', 'Terry Jones']]]\n",
    "\n",
    "print_lol1(movies,0)\n",
    "print_lol1(movies)\n",
    "print_lol1(movies,2)"
   ]
  },
  {
   "cell_type": "code",
   "execution_count": 2,
   "metadata": {
    "collapsed": false
   },
   "outputs": [
    {
     "name": "stdout",
     "output_type": "stream",
     "text": [
      "The Holy Grail\n",
      "1975\n",
      "Terry Jones & Terry Gilliam\n",
      "91\n",
      "Graham Chapman\n",
      "Michael Palin\n",
      "John Cleese\n",
      "Terry Gilliam\n",
      "Eric Idle\n",
      "Terry Jones\n"
     ]
    }
   ],
   "source": [
    "print_lol1(movies,-9)"
   ]
  },
  {
   "cell_type": "markdown",
   "metadata": {},
   "source": [
    "#5.向PyPI上传代码"
   ]
  },
  {
   "cell_type": "markdown",
   "metadata": {
    "collapsed": false
   },
   "source": [
    "准备发布：\n",
    "1. 首先为模块创建一个文件夹，模块文件复制到这个文件夹中。\n",
    "2. 在新文件夹中创建一个名为“setup.py”的文件。包含有关发布的元数据。\n",
    "3. 创建一个发布文件，在该文件夹中打开一个终端，\n",
    "    python3 setup.py sdist\n",
    "4. 将发布安装到你的Python本地副本中。\n",
    "    sudo python3 setup.py install"
   ]
  },
  {
   "cell_type": "markdown",
   "metadata": {},
   "source": [
    "注册：\n",
    "    python3 setup.py register\n",
    "    \n",
    "上传：\n",
    "    python3 setup.py upload\n",
    "    \n",
    "编辑“setup.py”使得version = '1.2.0'\n",
    "\n",
    "更新：\n",
    "    python3 setup.py sdist upload"
   ]
  }
 ],
 "metadata": {
  "kernelspec": {
   "display_name": "Python 3",
   "language": "python",
   "name": "python3"
  },
  "language_info": {
   "codemirror_mode": {
    "name": "ipython",
    "version": 3
   },
   "file_extension": ".py",
   "mimetype": "text/x-python",
   "name": "python",
   "nbconvert_exporter": "python",
   "pygments_lexer": "ipython3",
   "version": "3.4.3"
  }
 },
 "nbformat": 4,
 "nbformat_minor": 0
}
