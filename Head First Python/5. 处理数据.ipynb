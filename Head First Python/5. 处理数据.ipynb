{
 "cells": [
  {
   "cell_type": "markdown",
   "metadata": {},
   "source": [
    "# 1.数据格式"
   ]
  },
  {
   "cell_type": "code",
   "execution_count": 1,
   "metadata": {
    "collapsed": false
   },
   "outputs": [
    {
     "data": {
      "text/plain": [
       "'C:\\\\Users\\\\dell\\\\Desktop\\\\Head First Python'"
      ]
     },
     "execution_count": 1,
     "metadata": {},
     "output_type": "execute_result"
    }
   ],
   "source": [
    "import os\n",
    "os.getcwd()"
   ]
  },
  {
   "cell_type": "code",
   "execution_count": 2,
   "metadata": {
    "collapsed": true
   },
   "outputs": [],
   "source": [
    "os.chdir('C:\\\\Users\\\\dell\\\\Desktop\\\\Head First Python\\\\hfpy_ch5_data')"
   ]
  },
  {
   "cell_type": "code",
   "execution_count": 3,
   "metadata": {
    "collapsed": false
   },
   "outputs": [
    {
     "data": {
      "text/plain": [
       "'C:\\\\Users\\\\dell\\\\Desktop\\\\Head First Python\\\\hfpy_ch5_data'"
      ]
     },
     "execution_count": 3,
     "metadata": {},
     "output_type": "execute_result"
    }
   ],
   "source": [
    "os.getcwd()"
   ]
  },
  {
   "cell_type": "code",
   "execution_count": 4,
   "metadata": {
    "collapsed": false
   },
   "outputs": [
    {
     "name": "stdout",
     "output_type": "stream",
     "text": [
      "['2-34', '3:21', '2.34', '2.45', '3.01', '2:01', '2:01', '3:10', '2-22']\n",
      "['2.59', '2.11', '2:11', '2:23', '3-10', '2-23', '3:10', '3.21', '3-21']\n",
      "['2:22', '3.01', '3:01', '3.02', '3:02', '3.02', '3:22', '2.49', '2:38']\n",
      "['2:58', '2.58', '2:39', '2-25', '2-55', '2:54', '2.18', '2:55', '2:55']\n"
     ]
    }
   ],
   "source": [
    "with open('james.txt') as jaf:\n",
    "    data = jaf.readline()\n",
    "james = data.strip().split(',')\n",
    "\n",
    "with open('julie.txt') as juf:\n",
    "    data = juf.readline()\n",
    "julie = data.strip().split(',')\n",
    "\n",
    "with open('mikey.txt') as mif:\n",
    "    data = mif.readline()\n",
    "mikey = data.strip().split(',')\n",
    "\n",
    "with open('sarah.txt') as saf:\n",
    "    data = saf.readline()\n",
    "sarah = data.strip().split(',')\n",
    "\n",
    "print(james)\n",
    "print(julie)\n",
    "print(mikey)\n",
    "print(sarah)"
   ]
  },
  {
   "cell_type": "markdown",
   "metadata": {},
   "source": [
    "#2.排序两种方式"
   ]
  },
  {
   "cell_type": "markdown",
   "metadata": {},
   "source": [
    "###原地排序\n",
    "\n",
    "按你指定的顺序排列数据，然后用排序后的数据替换原来的数据。原来的顺序会丢失。对于列表，sort()方法提供原地排序。"
   ]
  },
  {
   "cell_type": "markdown",
   "metadata": {},
   "source": [
    "###复制排序\n",
    "\n",
    "按你指定的顺序排列数据，然后返回原数据的一个有序副本。原数据的顺序依旧保持，只是副本排序，sorted()支持复制排序。"
   ]
  },
  {
   "cell_type": "code",
   "execution_count": 5,
   "metadata": {
    "collapsed": false
   },
   "outputs": [
    {
     "data": {
      "text/plain": [
       "[6, 3, 1, 2, 4, 5]"
      ]
     },
     "execution_count": 5,
     "metadata": {},
     "output_type": "execute_result"
    }
   ],
   "source": [
    "data = [6, 3, 1, 2, 4, 5]\n",
    "data"
   ]
  },
  {
   "cell_type": "code",
   "execution_count": 7,
   "metadata": {
    "collapsed": false
   },
   "outputs": [
    {
     "data": {
      "text/plain": [
       "[1, 2, 3, 4, 5, 6]"
      ]
     },
     "execution_count": 7,
     "metadata": {},
     "output_type": "execute_result"
    }
   ],
   "source": [
    "data.sort()\n",
    "data"
   ]
  },
  {
   "cell_type": "code",
   "execution_count": 8,
   "metadata": {
    "collapsed": false
   },
   "outputs": [
    {
     "data": {
      "text/plain": [
       "[6, 3, 1, 2, 4, 5]"
      ]
     },
     "execution_count": 8,
     "metadata": {},
     "output_type": "execute_result"
    }
   ],
   "source": [
    "data = [6, 3, 1, 2, 4, 5]\n",
    "data2 = sorted(data)\n",
    "data"
   ]
  },
  {
   "cell_type": "code",
   "execution_count": 9,
   "metadata": {
    "collapsed": false
   },
   "outputs": [
    {
     "data": {
      "text/plain": [
       "[1, 2, 3, 4, 5, 6]"
      ]
     },
     "execution_count": 9,
     "metadata": {},
     "output_type": "execute_result"
    }
   ],
   "source": [
    "data2"
   ]
  },
  {
   "cell_type": "code",
   "execution_count": 11,
   "metadata": {
    "collapsed": false
   },
   "outputs": [
    {
     "name": "stdout",
     "output_type": "stream",
     "text": [
      "['2-22', '2-34', '2.34', '2.45', '2:01', '2:01', '3.01', '3:10', '3:21']\n",
      "['2-23', '2.11', '2.59', '2:11', '2:23', '3-10', '3-21', '3.21', '3:10']\n",
      "['2.49', '2:22', '2:38', '3.01', '3.02', '3.02', '3:01', '3:02', '3:22']\n",
      "['2-25', '2-55', '2.18', '2.58', '2:39', '2:54', '2:55', '2:55', '2:58']\n"
     ]
    }
   ],
   "source": [
    "print(sorted(james))\n",
    "print(sorted(julie))\n",
    "print(sorted(mikey))\n",
    "print(sorted(sarah))"
   ]
  },
  {
   "cell_type": "markdown",
   "metadata": {},
   "source": [
    "Python可以对字符串排序，短横线排在点号前面，点号则在冒号前面。数据不一致性导致排序失败。"
   ]
  },
  {
   "cell_type": "markdown",
   "metadata": {},
   "source": [
    "###方法串链从左向右读，函数串链从右往左读。"
   ]
  },
  {
   "cell_type": "code",
   "execution_count": 17,
   "metadata": {
    "collapsed": false
   },
   "outputs": [
    {
     "name": "stdout",
     "output_type": "stream",
     "text": [
      "['3.21', '3.10', '3.01', '2.45', '2.34', '2.34', '2.22', '2.01', '2.01']\n",
      "['2.11', '2.11', '2.23', '2.23', '2.59', '3.10', '3.10', '3.21', '3.21']\n",
      "['2.22', '2.38', '2.49', '3.01', '3.01', '3.02', '3.02', '3.02', '3.22']\n",
      "['2.18', '2.25', '2.39', '2.54', '2.55', '2.55', '2.55', '2.58', '2.58']\n"
     ]
    }
   ],
   "source": [
    "#清理数据\n",
    "def sanitize(time_string):\n",
    "    if '-' in time_string:\n",
    "        splitter = '-'\n",
    "    elif ':' in time_string:\n",
    "        splitter = ':'\n",
    "    else:\n",
    "        return(time_string)\n",
    "    (mins,secs) = time_string.split(splitter)\n",
    "    return(mins + '.' + secs)\n",
    "\n",
    "clean_james = []\n",
    "clean_julie = []\n",
    "clean_mikey = []\n",
    "clean_sarah = []\n",
    "\n",
    "for each_t in james:\n",
    "    clean_james.append(sanitize(each_t))\n",
    "for each_t in julie:\n",
    "    clean_julie.append(sanitize(each_t))\n",
    "for each_t in mikey:\n",
    "    clean_mikey.append(sanitize(each_t))\n",
    "for each_t in sarah:\n",
    "    clean_sarah.append(sanitize(each_t))\n",
    "\n",
    "\n",
    "print(sorted(clean_james,reverse = True))\n",
    "print(sorted(clean_julie))\n",
    "print(sorted(clean_mikey))\n",
    "print(sorted(clean_sarah))"
   ]
  },
  {
   "cell_type": "markdown",
   "metadata": {},
   "source": [
    "#3.推导列表"
   ]
  },
  {
   "cell_type": "code",
   "execution_count": 18,
   "metadata": {
    "collapsed": false
   },
   "outputs": [
    {
     "name": "stdout",
     "output_type": "stream",
     "text": [
      "['2.22', '2.38', '2.49', '3.01', '3.01', '3.02', '3.02', '3.02', '3.22']\n"
     ]
    }
   ],
   "source": [
    "clean_mikey2 = [sanitize(each_t) for each_t in mikey]\n",
    "print(sorted(clean_mikey2))"
   ]
  },
  {
   "cell_type": "code",
   "execution_count": 20,
   "metadata": {
    "collapsed": false
   },
   "outputs": [
    {
     "data": {
      "text/plain": [
       "[60, 120, 180]"
      ]
     },
     "execution_count": 20,
     "metadata": {},
     "output_type": "execute_result"
    }
   ],
   "source": [
    "mins = [1, 2, 3]\n",
    "secs = [m*60 for m in mins]\n",
    "secs"
   ]
  },
  {
   "cell_type": "code",
   "execution_count": 22,
   "metadata": {
    "collapsed": false
   },
   "outputs": [
    {
     "data": {
      "text/plain": [
       "['I', \"DON'T\", 'LIKE', 'SPAM']"
      ]
     },
     "execution_count": 22,
     "metadata": {},
     "output_type": "execute_result"
    }
   ],
   "source": [
    "lower = ['I','don\\'t','like','spam']\n",
    "upper = [s.upper() for s in lower]\n",
    "upper"
   ]
  },
  {
   "cell_type": "code",
   "execution_count": 25,
   "metadata": {
    "collapsed": false
   },
   "outputs": [
    {
     "data": {
      "text/plain": [
       "[2.22, 3.33, 4.44]"
      ]
     },
     "execution_count": 25,
     "metadata": {},
     "output_type": "execute_result"
    }
   ],
   "source": [
    "clean = [float(sanitize(t)) for t in ['2-22','3:33','4.44']]\n",
    "clean"
   ]
  },
  {
   "cell_type": "markdown",
   "metadata": {},
   "source": [
    "#4.删除重复项"
   ]
  },
  {
   "cell_type": "markdown",
   "metadata": {},
   "source": [
    "###迭代删除重复项"
   ]
  },
  {
   "cell_type": "code",
   "execution_count": 26,
   "metadata": {
    "collapsed": false
   },
   "outputs": [
    {
     "name": "stdout",
     "output_type": "stream",
     "text": [
      "['2.01', '2.22', '2.34']\n"
     ]
    }
   ],
   "source": [
    "james = sorted(sanitize(t) for t in james)\n",
    "unique_james = []\n",
    "for each_t in james:\n",
    "    if each_t not in unique_james:\n",
    "        unique_james.append(each_t)\n",
    "print(unique_james[0:3])\n"
   ]
  },
  {
   "cell_type": "markdown",
   "metadata": {},
   "source": [
    "###集合删除重复项：集合中的数据是无序的，而且不允许重复项。"
   ]
  },
  {
   "cell_type": "code",
   "execution_count": 29,
   "metadata": {
    "collapsed": false
   },
   "outputs": [
    {
     "name": "stdout",
     "output_type": "stream",
     "text": [
      "{9.3, 10.3, 'two', 11, 5}\n",
      "{'3.10', '3.01', '2.01', '2.34', '2.22', '2.45', '3.21'}\n"
     ]
    }
   ],
   "source": [
    "#创建集合\n",
    "\n",
    "distances = set()\n",
    "distances = {10.3, 11, 5, 9.3,'two'}\n",
    "print(distances)\n",
    "distances = set(james)\n",
    "print(distances)"
   ]
  },
  {
   "cell_type": "markdown",
   "metadata": {},
   "source": [
    "###工厂函数用于创建某种类型的新的数据项。比如set()，会创建一个新的集合。"
   ]
  },
  {
   "cell_type": "code",
   "execution_count": 31,
   "metadata": {
    "collapsed": false
   },
   "outputs": [
    {
     "name": "stdout",
     "output_type": "stream",
     "text": [
      "['2.18', '2.25', '2.39']\n"
     ]
    }
   ],
   "source": [
    "def get_coach_data(filename):\n",
    "    try:\n",
    "        with open(filename) as f:\n",
    "            data = f.readline()\n",
    "        return(data.strip().split(','))\n",
    "    except IOError as ioerr:\n",
    "        print('File error' +str(ioerr))\n",
    "        return(None)\n",
    "sarah = get_coach_data('sarah.txt')\n",
    "\n",
    "print(sorted(set([sanitize(t) for t in sarah]))[0:3])"
   ]
  },
  {
   "cell_type": "code",
   "execution_count": 32,
   "metadata": {
    "collapsed": false
   },
   "outputs": [
    {
     "name": "stdout",
     "output_type": "stream",
     "text": [
      "[4, 4, 4, 4, 4, 4, 4, 4, 4]\n",
      "[4, 4, 4, 4, 4, 4, 4, 4, 4]\n"
     ]
    }
   ],
   "source": [
    "old_l = james\n",
    "new_l = []\n",
    "for t in old_l:\n",
    "    new_l.append(len(t))\n",
    "\n",
    "print(new_l)\n",
    "#列表推导重写\n",
    "new_l = [len(t) for t in old_l]\n",
    "print(sorted(new_l))\n"
   ]
  },
  {
   "cell_type": "code",
   "execution_count": null,
   "metadata": {
    "collapsed": true
   },
   "outputs": [],
   "source": []
  }
 ],
 "metadata": {
  "kernelspec": {
   "display_name": "Python 3",
   "language": "python",
   "name": "python3"
  },
  "language_info": {
   "codemirror_mode": {
    "name": "ipython",
    "version": 3
   },
   "file_extension": ".py",
   "mimetype": "text/x-python",
   "name": "python",
   "nbconvert_exporter": "python",
   "pygments_lexer": "ipython3",
   "version": "3.4.3"
  }
 },
 "nbformat": 4,
 "nbformat_minor": 0
}
