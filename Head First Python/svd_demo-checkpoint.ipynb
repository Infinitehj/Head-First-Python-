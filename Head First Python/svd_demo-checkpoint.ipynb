{
 "cells": [
  {
   "cell_type": "markdown",
   "metadata": {},
   "source": [
    "# (零) Python开发工具"
   ]
  },
  {
   "cell_type": "markdown",
   "metadata": {},
   "source": [
    "推荐使用IPython的集成开发环境anaconda。其官方主页在http://www.continuum.io/\n",
    "python3.4 64位 https://3230d63b5fc54e62148e-c95ac804525aac4b6dba79b00b39d1d3.ssl.cf1.rackcdn.com/Anaconda3-2.2.0-Windows-x86_64.exe\n",
    "python2.7 64位 https://3230d63b5fc54e62148e-c95ac804525aac4b6dba79b00b39d1d3.ssl.cf1.rackcdn.com/Anaconda-2.2.0-Windows-x86_64.exe"
   ]
  },
  {
   "cell_type": "markdown",
   "metadata": {},
   "source": [
    "# -----------------------------------------------------------------------"
   ]
  },
  {
   "cell_type": "code",
   "execution_count": 3,
   "metadata": {
    "collapsed": true
   },
   "outputs": [],
   "source": [
    "'''\n",
    "Created on Mar 8, 2011\n",
    "\n",
    "@author: Peter\n",
    "'''\n",
    "\n",
    "from numpy import *\n",
    "#import numpy as np\n",
    "import numpy.linalg as la"
   ]
  },
  {
   "cell_type": "markdown",
   "metadata": {},
   "source": [
    "## (一) 使用numpy.linalg.SVD"
   ]
  },
  {
   "cell_type": "markdown",
   "metadata": {},
   "source": [
    "### 例1 简单矩阵的SVD分解"
   ]
  },
  {
   "cell_type": "code",
   "execution_count": 3,
   "metadata": {
    "collapsed": false
   },
   "outputs": [
    {
     "ename": "NameError",
     "evalue": "name 'la' is not defined",
     "output_type": "error",
     "traceback": [
      "\u001b[1;31m---------------------------------------------------------------------------\u001b[0m",
      "\u001b[1;31mNameError\u001b[0m                                 Traceback (most recent call last)",
      "\u001b[1;32m<ipython-input-3-9fecba1da152>\u001b[0m in \u001b[0;36m<module>\u001b[1;34m()\u001b[0m\n\u001b[1;32m----> 1\u001b[1;33m \u001b[0mU\u001b[0m\u001b[1;33m,\u001b[0m \u001b[0mSigma\u001b[0m\u001b[1;33m,\u001b[0m \u001b[0mVT\u001b[0m \u001b[1;33m=\u001b[0m \u001b[0mla\u001b[0m\u001b[1;33m.\u001b[0m\u001b[0msvd\u001b[0m\u001b[1;33m(\u001b[0m\u001b[1;33m[\u001b[0m\u001b[1;33m[\u001b[0m\u001b[1;36m1\u001b[0m\u001b[1;33m,\u001b[0m\u001b[1;36m1\u001b[0m\u001b[1;33m]\u001b[0m\u001b[1;33m,\u001b[0m \u001b[1;33m[\u001b[0m\u001b[1;36m7\u001b[0m\u001b[1;33m,\u001b[0m\u001b[1;36m7\u001b[0m\u001b[1;33m]\u001b[0m\u001b[1;33m]\u001b[0m\u001b[1;33m)\u001b[0m\u001b[1;33m\u001b[0m\u001b[0m\n\u001b[0m",
      "\u001b[1;31mNameError\u001b[0m: name 'la' is not defined"
     ]
    }
   ],
   "source": [
    "U, Sigma, VT = la.svd([[1,1], [7,7]])"
   ]
  },
  {
   "cell_type": "code",
   "execution_count": 5,
   "metadata": {
    "collapsed": false
   },
   "outputs": [
    {
     "name": "stdout",
     "output_type": "stream",
     "text": [
      "U:\n",
      " [[-0.14142136 -0.98994949]\n",
      " [-0.98994949  0.14142136]]\n",
      "Sigma:\n",
      " [  1.00000000e+01   2.82797782e-16]\n",
      "VT:\n",
      " [[-0.70710678 -0.70710678]\n",
      " [ 0.70710678 -0.70710678]]\n"
     ]
    }
   ],
   "source": [
    "print('U:\\n', U)\n",
    "print('Sigma:\\n', Sigma)\n",
    "print('VT:\\n', VT)"
   ]
  },
  {
   "cell_type": "markdown",
   "metadata": {},
   "source": [
    "### 例2 矩阵的SVD分解及矩阵重建"
   ]
  },
  {
   "cell_type": "markdown",
   "metadata": {},
   "source": [
    "#### （1）SVD分解"
   ]
  },
  {
   "cell_type": "code",
   "execution_count": 6,
   "metadata": {
    "collapsed": true
   },
   "outputs": [],
   "source": [
    "def loadExData():\n",
    "    return[[0, 0, 0, 2, 2],\n",
    "           [0, 0, 0, 3, 3],\n",
    "           [0, 0, 0, 1, 1],\n",
    "           [1, 1, 1, 0, 0],\n",
    "           [2, 2, 2, 0, 0],\n",
    "           [5, 5, 5, 0, 0],\n",
    "           [1, 1, 1, 0, 0]]"
   ]
  },
  {
   "cell_type": "code",
   "execution_count": 7,
   "metadata": {
    "collapsed": true
   },
   "outputs": [],
   "source": [
    "# 读入矩阵\n",
    "Data = loadExData()\n",
    "# 矩阵的SVD分解\n",
    "U, Sigma, VT = la.svd(Data)"
   ]
  },
  {
   "cell_type": "code",
   "execution_count": 8,
   "metadata": {
    "collapsed": false
   },
   "outputs": [
    {
     "name": "stdout",
     "output_type": "stream",
     "text": [
      "U:\n",
      " [[  1.11022302e-16  -5.34522484e-01   8.27981439e-01   8.42973235e-02\n",
      "   -1.47059215e-01   1.38777878e-17   0.00000000e+00]\n",
      " [  0.00000000e+00  -8.01783726e-01  -4.44442404e-01  -3.32643100e-01\n",
      "    2.21274433e-01   3.46944695e-17   5.55111512e-17]\n",
      " [  0.00000000e+00  -2.67261242e-01  -3.22635665e-01   8.29334652e-01\n",
      "   -3.69704869e-01   3.64689017e-17   0.00000000e+00]\n",
      " [ -1.79605302e-01   2.30033794e-18  -4.15167964e-02  -1.61664130e-01\n",
      "   -3.26419465e-01  -8.41819569e-01  -3.53090848e-01]\n",
      " [ -3.59210604e-01   4.60067587e-18  -8.30335927e-02  -3.23328259e-01\n",
      "   -6.52838929e-01   5.09706310e-01  -2.71169341e-01]\n",
      " [ -8.98026510e-01   3.73408825e-17   4.98201556e-02   1.93996956e-01\n",
      "    3.91703358e-01   4.74415178e-17   5.55079046e-17]\n",
      " [ -1.79605302e-01   2.30033794e-18  -4.15167964e-02  -1.61664130e-01\n",
      "   -3.26419465e-01  -1.77593050e-01   8.95429529e-01]]\n",
      "Sigma:\n",
      " [  9.64365076e+00   5.29150262e+00   9.11145502e-16   1.40456183e-16\n",
      "   3.09084552e-17]\n",
      "VT:\n",
      " [[ -5.77350269e-01  -5.77350269e-01  -5.77350269e-01   0.00000000e+00\n",
      "    0.00000000e+00]\n",
      " [ -1.70408510e-16   8.52042552e-17   8.52042552e-17  -7.07106781e-01\n",
      "   -7.07106781e-01]\n",
      " [  4.33178207e-01   3.22892561e-01  -7.56070768e-01   2.61203014e-01\n",
      "   -2.61203014e-01]\n",
      " [  5.63244471e-01  -3.77325442e-01  -1.85919029e-01  -5.02899240e-01\n",
      "    5.02899240e-01]\n",
      " [  4.02217570e-01  -6.48099199e-01   2.45881629e-01   4.22924745e-01\n",
      "   -4.22924745e-01]]\n"
     ]
    }
   ],
   "source": [
    "print('U:\\n', U)\n",
    "print('Sigma:\\n', Sigma)\n",
    "print('VT:\\n', VT)"
   ]
  },
  {
   "cell_type": "markdown",
   "metadata": {},
   "source": [
    "#### （2） 根据SVD分解得到的矩阵，将原始矩阵重建。\n",
    "Data ≈ Umr·∑rr·VTrn"
   ]
  },
  {
   "cell_type": "code",
   "execution_count": 9,
   "metadata": {
    "collapsed": false
   },
   "outputs": [],
   "source": [
    "Sig2 = mat([[Sigma[0], 0], [0, Sigma[1]]]) # 或者 sig = mat(eye(3)*Sigma[:3])\n",
    "Data_hat = U[:,:2]*Sig2*VT[:2,:]"
   ]
  },
  {
   "cell_type": "code",
   "execution_count": 10,
   "metadata": {
    "collapsed": false
   },
   "outputs": [
    {
     "name": "stdout",
     "output_type": "stream",
     "text": [
      "Sig2\n",
      " [[ 9.64365076  0.        ]\n",
      " [ 0.          5.29150262]]\n",
      "Data_hat\n",
      " [[ -1.36157966e-16  -8.59140046e-16  -8.59140046e-16   2.00000000e+00\n",
      "    2.00000000e+00]\n",
      " [  7.22982080e-16  -3.61491040e-16  -3.61491040e-16   3.00000000e+00\n",
      "    3.00000000e+00]\n",
      " [  2.40994027e-16  -1.20497013e-16  -1.20497013e-16   1.00000000e+00\n",
      "    1.00000000e+00]\n",
      " [  1.00000000e+00   1.00000000e+00   1.00000000e+00  -8.60707644e-18\n",
      "   -8.60707644e-18]\n",
      " [  2.00000000e+00   2.00000000e+00   2.00000000e+00  -1.72141529e-17\n",
      "   -1.72141529e-17]\n",
      " [  5.00000000e+00   5.00000000e+00   5.00000000e+00  -1.39716789e-16\n",
      "   -1.39716789e-16]\n",
      " [  1.00000000e+00   1.00000000e+00   1.00000000e+00  -8.60707644e-18\n",
      "   -8.60707644e-18]]\n"
     ]
    }
   ],
   "source": [
    "print('Sig2\\n', Sig2)\n",
    "print('Data_hat\\n', Data_hat)"
   ]
  },
  {
   "cell_type": "markdown",
   "metadata": {},
   "source": [
    "## (二) 两个向量之间的相似性度量"
   ]
  },
  {
   "cell_type": "markdown",
   "metadata": {},
   "source": [
    "#### （1）两个向量之间的相似性"
   ]
  },
  {
   "cell_type": "code",
   "execution_count": 11,
   "metadata": {
    "collapsed": true
   },
   "outputs": [],
   "source": [
    "# 将欧氏距离转换成相似度\n",
    "def ecludSim(inA,inB):\n",
    "    return 1.0/(1.0 + la.norm(inA - inB))\n",
    "\n",
    "# 将pearson相似度标准化\n",
    "def pearsSim(inA,inB):\n",
    "    if len(inA) < 3 : return 1.0\n",
    "    return 0.5+0.5*corrcoef(inA, inB, rowvar = 0)[0][1]\n",
    "\n",
    "# 余弦相似度\n",
    "def cosSim(inA,inB):\n",
    "    num = float(inA.T*inB)\n",
    "    denom = la.norm(inA)*la.norm(inB)\n",
    "    return 0.5+0.5*(num/denom)"
   ]
  },
  {
   "cell_type": "markdown",
   "metadata": {},
   "source": [
    "#### 例3 计算向量之间的相似度"
   ]
  },
  {
   "cell_type": "code",
   "execution_count": 12,
   "metadata": {
    "collapsed": false
   },
   "outputs": [],
   "source": [
    "My_Matrix = mat(Data)\n",
    "food0 = My_Matrix[:,0]\n",
    "food4 = My_Matrix[:,4]\n",
    "eclude = ecludSim(food0, food4)\n",
    "pears = pearsSim(food0, food4)\n",
    "cos = cosSim(food0, food0)"
   ]
  },
  {
   "cell_type": "code",
   "execution_count": 13,
   "metadata": {
    "collapsed": false
   },
   "outputs": [
    {
     "name": "stdout",
     "output_type": "stream",
     "text": [
      "eclude:\n",
      " 0.129731907557\n",
      "pears:\n",
      " 0.205965381738\n",
      "cos:\n",
      " 1.0\n"
     ]
    }
   ],
   "source": [
    "print('eclude:\\n', eclude)\n",
    "print('pears:\\n', pears)\n",
    "print('cos:\\n', cos)"
   ]
  },
  {
   "cell_type": "markdown",
   "metadata": {},
   "source": [
    "#### （2）协作过滤"
   ]
  },
  {
   "cell_type": "markdown",
   "metadata": {},
   "source": [
    "#### 例4 协作过滤推荐用户没评价过的物品"
   ]
  },
  {
   "cell_type": "code",
   "execution_count": 14,
   "metadata": {
    "collapsed": false
   },
   "outputs": [],
   "source": [
    "# 物品相似度\n",
    "def standEst(dataMat, user, simMeas, item):\n",
    "    n = shape(dataMat)[1]\n",
    "    simTotal = 0.0\n",
    "    ratSimTotal = 0.0\n",
    "    for j in range(n):\n",
    "        userRating = dataMat[user,j]\n",
    "        if userRating == 0: \n",
    "            continue\n",
    "        overLap = nonzero(logical_and(dataMat[:,item].A>0, dataMat[:,j].A>0))[0]\n",
    "        if len(overLap) == 0: \n",
    "            similarity = 0\n",
    "        else: \n",
    "            similarity = simMeas(dataMat[overLap,item],dataMat[overLap,j])\n",
    "        print ('the %d and %d similarity is: %f' % (item, j, similarity))\n",
    "        simTotal += similarity\n",
    "        ratSimTotal += similarity * userRating\n",
    "    if simTotal == 0: \n",
    "        return 0\n",
    "    else: \n",
    "        return ratSimTotal/simTotal"
   ]
  },
  {
   "cell_type": "code",
   "execution_count": 15,
   "metadata": {
    "collapsed": true
   },
   "outputs": [],
   "source": [
    "My_Matrix[0, 1] = My_Matrix[0, 0] = My_Matrix[1, 0] = My_Matrix[0, 1] = My_Matrix[2, 0] = 4\n",
    "My_Matrix[3, 3] = 2"
   ]
  },
  {
   "cell_type": "code",
   "execution_count": 16,
   "metadata": {
    "collapsed": true
   },
   "outputs": [],
   "source": [
    "# 推荐\n",
    "def recommend(dataMat, user, N=3, simMeas=cosSim, estMethod=standEst):\n",
    "    unratedItems = nonzero(dataMat[user,:].A==0)[1]  #find unrated items \n",
    "    if len(unratedItems) == 0: return 'you rated everything'\n",
    "    itemScores = []\n",
    "    for item in unratedItems:\n",
    "        estimatedScore = estMethod(dataMat, user, simMeas, item)\n",
    "        itemScores.append((item, estimatedScore))\n",
    "    return sorted(itemScores, key=lambda jj: jj[1], reverse=True)[:N]"
   ]
  },
  {
   "cell_type": "code",
   "execution_count": 17,
   "metadata": {
    "collapsed": false
   },
   "outputs": [
    {
     "name": "stdout",
     "output_type": "stream",
     "text": [
      "the 1 and 0 similarity is: 1.000000\n",
      "the 1 and 3 similarity is: 0.928746\n",
      "the 1 and 4 similarity is: 1.000000\n",
      "the 2 and 0 similarity is: 1.000000\n",
      "the 2 and 3 similarity is: 1.000000\n",
      "the 2 and 4 similarity is: 0.000000\n"
     ]
    },
    {
     "data": {
      "text/plain": [
       "[(2, 2.5), (1, 2.0243290220056256)]"
      ]
     },
     "execution_count": 17,
     "metadata": {},
     "output_type": "execute_result"
    }
   ],
   "source": [
    "recommend(My_Matrix, 2)"
   ]
  },
  {
   "cell_type": "code",
   "execution_count": 2,
   "metadata": {
    "collapsed": false,
    "scrolled": true
   },
   "outputs": [
    {
     "ename": "NameError",
     "evalue": "name 'recommend' is not defined",
     "output_type": "error",
     "traceback": [
      "\u001b[1;31m---------------------------------------------------------------------------\u001b[0m",
      "\u001b[1;31mNameError\u001b[0m                                 Traceback (most recent call last)",
      "\u001b[1;32m<ipython-input-2-aeab709dd274>\u001b[0m in \u001b[0;36m<module>\u001b[1;34m()\u001b[0m\n\u001b[1;32m----> 1\u001b[1;33m \u001b[0mrecommend\u001b[0m\u001b[1;33m(\u001b[0m\u001b[0mMy_Matrix\u001b[0m\u001b[1;33m,\u001b[0m \u001b[1;36m2\u001b[0m\u001b[1;33m,\u001b[0m \u001b[0msimMeas\u001b[0m\u001b[1;33m=\u001b[0m\u001b[0mecludSim\u001b[0m\u001b[1;33m)\u001b[0m\u001b[1;33m\u001b[0m\u001b[0m\n\u001b[0m",
      "\u001b[1;31mNameError\u001b[0m: name 'recommend' is not defined"
     ]
    }
   ],
   "source": [
    "recommend(My_Matrix, 2, simMeas=ecludSim)"
   ]
  },
  {
   "cell_type": "code",
   "execution_count": 1,
   "metadata": {
    "collapsed": false
   },
   "outputs": [
    {
     "ename": "NameError",
     "evalue": "name 'recommend' is not defined",
     "output_type": "error",
     "traceback": [
      "\u001b[1;31m---------------------------------------------------------------------------\u001b[0m",
      "\u001b[1;31mNameError\u001b[0m                                 Traceback (most recent call last)",
      "\u001b[1;32m<ipython-input-1-f9aea92513d2>\u001b[0m in \u001b[0;36m<module>\u001b[1;34m()\u001b[0m\n\u001b[1;32m----> 1\u001b[1;33m \u001b[0mrecommend\u001b[0m\u001b[1;33m(\u001b[0m\u001b[0mMy_Matrix\u001b[0m\u001b[1;33m,\u001b[0m \u001b[1;36m2\u001b[0m\u001b[1;33m,\u001b[0m \u001b[0msimMeas\u001b[0m\u001b[1;33m=\u001b[0m\u001b[0mpearsSim\u001b[0m\u001b[1;33m)\u001b[0m\u001b[1;33m\u001b[0m\u001b[0m\n\u001b[0m",
      "\u001b[1;31mNameError\u001b[0m: name 'recommend' is not defined"
     ]
    }
   ],
   "source": [
    "recommend(My_Matrix, 2, simMeas=pearsSim)"
   ]
  },
  {
   "cell_type": "markdown",
   "metadata": {},
   "source": [
    "#### （3）利用SVD的推荐系统"
   ]
  },
  {
   "cell_type": "code",
   "execution_count": 20,
   "metadata": {
    "collapsed": false
   },
   "outputs": [],
   "source": [
    "def svdEst(dataMat, user, simMeas, item):\n",
    "    n = shape(dataMat)[1]\n",
    "    simTotal = 0.0\n",
    "    ratSimTotal = 0.0\n",
    "    \n",
    "    U,Sigma,VT = la.svd(dataMat)    # SVD分解                                     !!!\n",
    "    Sig4 = mat(eye(4)*Sigma[:4])    #arrange Sig4 into a diagonal matrix          !!!\n",
    "    xformedItems = dataMat.T * U[:,:4] * Sig4.I  #create transformed items        !!!\n",
    "    \n",
    "    for j in range(n):\n",
    "        userRating = dataMat[user,j]\n",
    "        if userRating == 0 or j==item: continue\n",
    "        similarity = simMeas(xformedItems[item,:].T,\\\n",
    "                             xformedItems[j,:].T)\n",
    "        print ('the %d and %d similarity is: %f' % (item, j, similarity))\n",
    "        simTotal += similarity\n",
    "        ratSimTotal += similarity * userRating\n",
    "    if simTotal == 0: return 0\n",
    "    else: return ratSimTotal/simTotal"
   ]
  },
  {
   "cell_type": "code",
   "execution_count": null,
   "metadata": {
    "collapsed": true
   },
   "outputs": [],
   "source": []
  }
 ],
 "metadata": {
  "kernelspec": {
   "display_name": "Python 3",
   "language": "python",
   "name": "python3"
  },
  "language_info": {
   "codemirror_mode": {
    "name": "ipython",
    "version": 3
   },
   "file_extension": ".py",
   "mimetype": "text/x-python",
   "name": "python",
   "nbconvert_exporter": "python",
   "pygments_lexer": "ipython3",
   "version": "3.4.3"
  }
 },
 "nbformat": 4,
 "nbformat_minor": 0
}
